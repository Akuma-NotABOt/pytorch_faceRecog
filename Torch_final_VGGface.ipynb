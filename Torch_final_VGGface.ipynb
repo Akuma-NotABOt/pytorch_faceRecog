{
 "cells": [
  {
   "cell_type": "code",
   "execution_count": 4,
   "id": "a7773c41",
   "metadata": {},
   "outputs": [],
   "source": [
    "from facenet_pytorch import MTCNN, InceptionResnetV1\n",
    "import torch\n",
    "from torchvision import datasets\n",
    "from torch.utils.data import DataLoader\n",
    "from PIL import Image\n",
    "import os\n",
    "import numpy as np "
   ]
  },
  {
   "cell_type": "code",
   "execution_count": 5,
   "id": "bcbb3c3c",
   "metadata": {},
   "outputs": [],
   "source": [
    "# initializing mtcnn for face detection\n",
    "mtcnn = MTCNN(image_size=240, margin=0, min_face_size=20) \n",
    "# initializing resnet for face img to embeding conversion using pretrained model VGGface2\n",
    "resnet = InceptionResnetV1(pretrained='vggface2').eval() \n",
    "\n",
    "# Prompt to use gpu if present \n",
    "device = torch.device(\"cuda\" if torch.cuda.is_available() else \"cpu\")\n",
    "model = resnet.to(device)"
   ]
  },
  {
   "cell_type": "code",
   "execution_count": 8,
   "id": "24c82194",
   "metadata": {},
   "outputs": [
    {
     "data": {
      "text/plain": [
       "{0: 'George Clooney',\n",
       " 1: 'Hugh Jackman',\n",
       " 2: 'Joaquin Phoenix',\n",
       " 3: 'Kate Winslet',\n",
       " 4: 'Leonardo DiCaprio',\n",
       " 5: 'Matt Damon',\n",
       " 6: 'Miley Cyrus',\n",
       " 7: 'Morgan Freeman',\n",
       " 8: 'Shakira',\n",
       " 9: 'Will Smith'}"
      ]
     },
     "execution_count": 8,
     "metadata": {},
     "output_type": "execute_result"
    }
   ],
   "source": [
    "# Training dataset path(edit here)\n",
    "dataset=datasets.ImageFolder(r\"C:\\Users\\jv258\\Documents\\Jupyter\\Projects\\Jodhpur\\Images\\Train\") \n",
    "\n",
    "idx_to_class = {i:c for c,i in dataset.class_to_idx.items()} # accessing names of peoples from folder names\n",
    "\n",
    "idx_to_class"
   ]
  },
  {
   "cell_type": "code",
   "execution_count": 7,
   "id": "7614679e",
   "metadata": {},
   "outputs": [],
   "source": [
    "def collate_fn(x):\n",
    "    return x[0]\n",
    "\n",
    "loader = DataLoader(dataset, collate_fn=collate_fn)\n",
    "\n",
    "face_list = [] # list of cropped faces from photos folder\n",
    "name_list = [] # list of names corrospoing to cropped photos\n",
    "embedding_list = [] # list of embeding matrix after conversion from cropped faces to embedding matrix using resnet\n",
    "\n",
    "for img, idx in loader:\n",
    "    face, prob = mtcnn(img, return_prob=True) \n",
    "    if face is not None and prob>0.90: # if face detected and porbability > 90%\n",
    "        face = face.to(\"cuda\")\n",
    "        emb = resnet(face.unsqueeze(0)) # passing cropped face into resnet model to get embedding matrix\n",
    "        embedding_list.append(emb.detach()) # resulten embedding matrix is stored in a list\n",
    "        name_list.append(idx_to_class[idx]) # names are stored in a list"
   ]
  },
  {
   "cell_type": "code",
   "execution_count": 9,
   "id": "d49c268d",
   "metadata": {},
   "outputs": [],
   "source": [
    "data = [embedding_list, name_list]\n",
    "torch.save(data, 'data.pt') # saving data.pt file"
   ]
  },
  {
   "cell_type": "markdown",
   "id": "16dfbc4c",
   "metadata": {},
   "source": [
    "\n",
    "#### The function *face_match()* reads the image from the *img_path* passed to it and crops the face in the picture, done by mtcnn(), then it stores the processed face image into an embedded matrix which is then iterated to find a minimum euclidean distance the image corresponding to the matrix having least euclidean distance.\n",
    "\n"
   ]
  },
  {
   "cell_type": "code",
   "execution_count": 10,
   "id": "94f7fedf",
   "metadata": {},
   "outputs": [],
   "source": [
    "\n",
    "def face_match(img_path, data_path): # img_path= location of photo, data_path= location of data.pt \n",
    "    # getting embedding matrix of the given img\n",
    "    img = Image.open(img_path)\n",
    "    face, prob = mtcnn(img, return_prob=True) # returns cropped face and probability\n",
    "    face = face.to(\"cuda\")\n",
    "    emb = resnet(face.unsqueeze(0)).detach() # detech is to make required gradient false\n",
    "    \n",
    "    saved_data = torch.load('data.pt') # loading data.pt file\n",
    "    embedding_list = saved_data[0] # getting embedding data\n",
    "    name_list = saved_data[1] # getting list of names\n",
    "    dist_list = [] # list of matched distances, minimum distance is used to identify the person\n",
    "    \n",
    "    for idx, emb_db in enumerate(embedding_list):\n",
    "        dist = torch.dist(emb, emb_db).item()\n",
    "        dist_list.append(dist)\n",
    "        \n",
    "    idx_min = dist_list.index(min(dist_list))\n",
    "    return (name_list[idx_min], min(dist_list))"
   ]
  },
  {
   "cell_type": "code",
   "execution_count": 11,
   "id": "3ad3f2f5",
   "metadata": {
    "scrolled": true
   },
   "outputs": [
    {
     "name": "stdout",
     "output_type": "stream",
     "text": [
      "Face matched with:  Morgan Freeman With distance:  0.5252143144607544\n"
     ]
    }
   ],
   "source": [
    "#call the function to find the closest match to the embedded matrix which is created when passing the image path\n",
    "result = face_match(r\"C:\\Users\\jv258\\Documents\\Jupyter\\Projects\\Jodhpur\\Images\\Test\\Shakira\\test__000073-000044.jpg\", 'data.pt')\n",
    "\n",
    "print('Face matched with: ',result[0], 'With distance: ',result[1])"
   ]
  },
  {
   "cell_type": "markdown",
   "id": "e197c855",
   "metadata": {},
   "source": [
    "#### The code below will iterate all the images in the folder path given and predict which class(person) the image belongs to"
   ]
  },
  {
   "cell_type": "code",
   "execution_count": 16,
   "id": "8c0b5146",
   "metadata": {},
   "outputs": [
    {
     "name": "stdout",
     "output_type": "stream",
     "text": [
      "\n",
      "Face matched with:  Leonardo DiCaprio with distance:  0.4954832196235657\n",
      "\n",
      "Face matched with:  Leonardo DiCaprio with distance:  0.7011120319366455\n",
      "\n",
      "Face matched with:  Leonardo DiCaprio with distance:  0.5445054173469543\n",
      "\n",
      "Face matched with:  Leonardo DiCaprio with distance:  0.48734161257743835\n",
      "\n",
      "Face matched with:  Matt Damon with distance:  0.8133037686347961\n",
      "\n",
      "Face matched with:  Leonardo DiCaprio with distance:  0.5050778985023499\n",
      "\n",
      "Face matched with:  Leonardo DiCaprio with distance:  0.4576975107192993\n",
      "\n",
      "Face matched with:  Leonardo DiCaprio with distance:  0.4508529007434845\n",
      "\n",
      "Face matched with:  Leonardo DiCaprio with distance:  0.6753764152526855\n",
      "\n",
      "Face matched with:  Leonardo DiCaprio with distance:  0.6856589913368225\n",
      "\n",
      "Face matched with:  Leonardo DiCaprio with distance:  0.7874928712844849\n",
      "\n",
      "Face matched with:  Leonardo DiCaprio with distance:  0.43504637479782104\n",
      "\n",
      "Face matched with:  Leonardo DiCaprio with distance:  0.6974965333938599\n",
      "\n",
      "Face matched with:  Leonardo DiCaprio with distance:  0.6918279528617859\n",
      "\n",
      "Face matched with:  Leonardo DiCaprio with distance:  0.6971886157989502\n",
      "\n",
      "Face matched with:  Leonardo DiCaprio with distance:  0.6789664626121521\n",
      "\n",
      "Face matched with:  Leonardo DiCaprio with distance:  0.5214037895202637\n",
      "\n",
      "Face matched with:  Leonardo DiCaprio with distance:  0.3569883406162262\n",
      "\n",
      "Face matched with:  Matt Damon with distance:  0.7144657969474792\n",
      "\n",
      "Face matched with:  Leonardo DiCaprio with distance:  0.5307930707931519\n",
      "\n",
      "Face matched with:  Leonardo DiCaprio with distance:  0.825236439704895\n",
      "\n",
      "Face matched with:  Leonardo DiCaprio with distance:  0.5363010764122009\n",
      "\n",
      "Face matched with:  Leonardo DiCaprio with distance:  0.7544712424278259\n",
      "\n",
      "Face matched with:  Leonardo DiCaprio with distance:  0.719382107257843\n",
      "\n",
      "Face matched with:  Leonardo DiCaprio with distance:  0.6980143785476685\n",
      "\n",
      "Face matched with:  Leonardo DiCaprio with distance:  0.6264806389808655\n",
      "\n",
      "Face matched with:  Leonardo DiCaprio with distance:  0.43015551567077637\n",
      "\n",
      "Face matched with:  Leonardo DiCaprio with distance:  0.49365711212158203\n",
      "\n",
      "Face matched with:  Leonardo DiCaprio with distance:  0.4303642511367798\n",
      "\n",
      "Face matched with:  Leonardo DiCaprio with distance:  0.6827596426010132\n",
      "\n",
      "Face matched with:  Leonardo DiCaprio with distance:  0.6802705526351929\n",
      "\n",
      "Face matched with:  Leonardo DiCaprio with distance:  0.5884268879890442\n",
      "\n",
      "Face matched with:  Leonardo DiCaprio with distance:  0.6370953321456909\n",
      "\n",
      "Face matched with:  Leonardo DiCaprio with distance:  0.6787868738174438\n",
      "\n",
      "Face matched with:  Leonardo DiCaprio with distance:  0.6361159086227417\n",
      "\n",
      "Face matched with:  Leonardo DiCaprio with distance:  0.8433116674423218\n",
      "\n",
      "Face matched with:  Leonardo DiCaprio with distance:  0.5657978653907776\n",
      "\n",
      "Face matched with:  Leonardo DiCaprio with distance:  0.5090065002441406\n",
      "\n",
      "Face matched with:  Leonardo DiCaprio with distance:  0.8405775427818298\n",
      "\n",
      "Face matched with:  Leonardo DiCaprio with distance:  0.5709559321403503\n",
      "\n",
      "Face matched with:  Leonardo DiCaprio with distance:  0.6809775829315186\n",
      "\n",
      "Face matched with:  Leonardo DiCaprio with distance:  0.5750377178192139\n",
      "\n",
      "Face matched with:  Leonardo DiCaprio with distance:  0.487133264541626\n",
      "\n",
      "Face matched with:  Leonardo DiCaprio with distance:  0.6475523114204407\n",
      "\n",
      "Face matched with:  Leonardo DiCaprio with distance:  0.7428892254829407\n",
      "\n",
      "Face matched with:  Leonardo DiCaprio with distance:  0.6661953330039978\n",
      "\n",
      "Face matched with:  Leonardo DiCaprio with distance:  0.5805301666259766\n",
      "\n",
      "Face matched with:  Leonardo DiCaprio with distance:  0.6977896094322205\n",
      "\n",
      "Face matched with:  Leonardo DiCaprio with distance:  0.4536531865596771\n",
      "\n",
      "Face matched with:  Leonardo DiCaprio with distance:  0.46415138244628906\n",
      "\n",
      "Face matched with:  Leonardo DiCaprio with distance:  0.5827081203460693\n",
      "\n",
      "Face matched with:  Leonardo DiCaprio with distance:  0.5504565834999084\n",
      "\n",
      "Face matched with:  Leonardo DiCaprio with distance:  0.5973430871963501\n",
      "\n",
      "Face matched with:  Leonardo DiCaprio with distance:  0.5252187252044678\n",
      "\n",
      "Face matched with:  Leonardo DiCaprio with distance:  0.6834151148796082\n",
      "\n",
      "Face matched with:  Matt Damon with distance:  0.7244221568107605\n",
      "\n",
      "Face matched with:  Leonardo DiCaprio with distance:  0.559390127658844\n",
      "\n",
      "Face matched with:  Leonardo DiCaprio with distance:  0.5676504969596863\n",
      "\n",
      "Face matched with:  Leonardo DiCaprio with distance:  0.6733711957931519\n",
      "\n",
      "Face matched with:  Leonardo DiCaprio with distance:  0.5568968057632446\n",
      "\n",
      "Face matched with:  Leonardo DiCaprio with distance:  0.6762413382530212\n",
      "\n",
      "Face matched with:  Leonardo DiCaprio with distance:  0.4918286204338074\n"
     ]
    }
   ],
   "source": [
    "# Set the path to the folder containing the images(Edit Here)\n",
    "folder_path = r\"C:\\Users\\jv258\\Documents\\Jupyter\\Projects\\Jodhpur\\Images\\Test\\Leonardo DiCaprio\"\n",
    "\n",
    "\n",
    "for filename in os.listdir(folder_path):\n",
    "        \n",
    "    image_path = os.path.join(folder_path, filename)\n",
    "    result = face_match(image_path, 'data.pt')\n",
    "\n",
    "    print('\\nFace matched with: ',result[0], 'with distance: ',result[1])"
   ]
  },
  {
   "cell_type": "code",
   "execution_count": null,
   "id": "dd6d3fa1",
   "metadata": {},
   "outputs": [],
   "source": []
  }
 ],
 "metadata": {
  "kernelspec": {
   "display_name": "Python 3 (ipykernel)",
   "language": "python",
   "name": "python3"
  },
  "language_info": {
   "codemirror_mode": {
    "name": "ipython",
    "version": 3
   },
   "file_extension": ".py",
   "mimetype": "text/x-python",
   "name": "python",
   "nbconvert_exporter": "python",
   "pygments_lexer": "ipython3",
   "version": "3.10.11"
  }
 },
 "nbformat": 4,
 "nbformat_minor": 5
}
